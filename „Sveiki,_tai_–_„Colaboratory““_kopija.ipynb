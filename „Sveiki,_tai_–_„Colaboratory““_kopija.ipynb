{
  "cells": [
    {
      "cell_type": "markdown",
      "metadata": {
        "id": "view-in-github",
        "colab_type": "text"
      },
      "source": [
        "<a href=\"https://colab.research.google.com/github/RobertaAleksaite/Al_Fl/blob/main/%E2%80%9ESveiki%2C_tai_%E2%80%93_%E2%80%9EColaboratory%E2%80%9C%E2%80%9C_kopija.ipynb\" target=\"_parent\"><img src=\"https://colab.research.google.com/assets/colab-badge.svg\" alt=\"Open In Colab\"/></a>"
      ]
    },
    {
      "cell_type": "code",
      "source": [
        "#Impotuojami irankiai\n",
        "import numpy as np\n",
        "import random\n",
        "from collections import Counter\n",
        "from tabulate import tabulate\n",
        "from tensorflow import keras\n",
        "from keras import layers\n",
        "import matplotlib.pyplot as plt\n",
        "import pandas as pd\n",
        "from sklearn.model_selection import train_test_split"
      ],
      "metadata": {
        "id": "XEvWOxkd7DQh"
      },
      "execution_count": null,
      "outputs": []
    },
    {
      "cell_type": "code",
      "source": [
        "#Ikeliami duomenys\n",
        "df = np.load('flatland_train.npz')\n",
        "X = df['X']\n",
        "y = df['y']\n",
        "\n",
        "y[y != 0] -= 2 #Keiciamos y vertes, kad butu paeiliui einantys skaiciai\n",
        "X = X / 255. #Normalizuojamos X vertes"
      ],
      "metadata": {
        "id": "YbPkCmX27e6P"
      },
      "execution_count": null,
      "outputs": []
    },
    {
      "cell_type": "code",
      "source": [
        "print('Duomenu skaicius:',X.shape[0])\n",
        "print('Figuru kiekis pagal kategorijas:')\n",
        "print(tabulate(sorted(Counter(y).items()), headers=('Kat.','Kiekis'),tablefmt='fancy_grid'))\n",
        "print('Matau, kad kiekiai skirtingi, galbut praverstu pasirinkti subalansuota treniravimo grupe.')"
      ],
      "metadata": {
        "colab": {
          "base_uri": "https://localhost:8080/"
        },
        "id": "cH2mQHDT-2qg",
        "outputId": "c586fadc-a363-4a7c-bb98-e0348e70844b"
      },
      "execution_count": null,
      "outputs": [
        {
          "output_type": "stream",
          "name": "stdout",
          "text": [
            "Duomenu skaicius: 10000\n",
            "Figuru kiekis pagal kategorijas:\n",
            "╒════════╤══════════╕\n",
            "│   Kat. │   Kiekis │\n",
            "╞════════╪══════════╡\n",
            "│      0 │     1381 │\n",
            "├────────┼──────────┤\n",
            "│      1 │     2853 │\n",
            "├────────┼──────────┤\n",
            "│      2 │     1868 │\n",
            "├────────┼──────────┤\n",
            "│      3 │     2137 │\n",
            "├────────┼──────────┤\n",
            "│      4 │     1761 │\n",
            "╘════════╧══════════╛\n",
            "Matau, kad kiekiai skirtingi, galbut praverstu pasirinkti subalansuota treniravimo grupe.\n"
          ]
        }
      ]
    },
    {
      "cell_type": "code",
      "source": [
        "#Duomenis atskiriu i treniravimo ir testavimo grupes (90%:10%)\n",
        "#Grupese islaikau y reiksmiu proporcija\n",
        "X_train, X_test, y_train, y_test = train_test_split(X, y, train_size=0.9, stratify=y)\n",
        "X_train=X_train.reshape(X_train.shape[0],50,50,1)\n",
        "X_test=X_test.reshape(X_test.shape[0],50,50,1)"
      ],
      "metadata": {
        "id": "mwymqQ5U_Ubx"
      },
      "execution_count": null,
      "outputs": []
    },
    {
      "cell_type": "code",
      "source": [
        "#Konstruoju modeli\n",
        "model = keras.models.Sequential([\n",
        "    layers.Conv2D(32, kernel_size=(3, 3), activation='relu', input_shape=[50, 50, 1]),\n",
        "    layers.BatchNormalization(axis=-1),\n",
        "    layers.MaxPooling2D(pool_size=(2, 2)),\n",
        "    layers.Conv2D(32, kernel_size=(3, 3), activation='relu'),\n",
        "    layers.BatchNormalization(axis=-1),\n",
        "    layers.MaxPooling2D(pool_size=(2, 2)),\n",
        "    layers.Conv2D(32, kernel_size=(3, 3), activation='relu'),\n",
        "    layers.BatchNormalization(axis=-1),\n",
        "    layers.MaxPooling2D(pool_size=(2, 2)),\n",
        "\n",
        "    layers.Flatten(),\n",
        "    layers.Dense(64, activation='relu'),\n",
        "    layers.Dense(16, activation='relu'),\n",
        "    layers.Dense(5, activation='softmax')\n",
        "])\n",
        "\n",
        "model.compile(loss=\"sparse_categorical_crossentropy\",\n",
        "              optimizer=\"Adam\",\n",
        "              metrics=[\"accuracy\"])\n",
        "model.summary()"
      ],
      "metadata": {
        "colab": {
          "base_uri": "https://localhost:8080/"
        },
        "id": "vudvB8qd_Uen",
        "outputId": "1782e2c5-4711-45f1-c5c6-39a4a22ebe5f"
      },
      "execution_count": null,
      "outputs": [
        {
          "output_type": "stream",
          "name": "stdout",
          "text": [
            "Model: \"sequential\"\n",
            "_________________________________________________________________\n",
            " Layer (type)                Output Shape              Param #   \n",
            "=================================================================\n",
            " conv2d (Conv2D)             (None, 48, 48, 32)        320       \n",
            "                                                                 \n",
            " batch_normalization (BatchN  (None, 48, 48, 32)       128       \n",
            " ormalization)                                                   \n",
            "                                                                 \n",
            " max_pooling2d (MaxPooling2D  (None, 24, 24, 32)       0         \n",
            " )                                                               \n",
            "                                                                 \n",
            " conv2d_1 (Conv2D)           (None, 22, 22, 32)        9248      \n",
            "                                                                 \n",
            " batch_normalization_1 (Batc  (None, 22, 22, 32)       128       \n",
            " hNormalization)                                                 \n",
            "                                                                 \n",
            " max_pooling2d_1 (MaxPooling  (None, 11, 11, 32)       0         \n",
            " 2D)                                                             \n",
            "                                                                 \n",
            " conv2d_2 (Conv2D)           (None, 9, 9, 32)          9248      \n",
            "                                                                 \n",
            " batch_normalization_2 (Batc  (None, 9, 9, 32)         128       \n",
            " hNormalization)                                                 \n",
            "                                                                 \n",
            " max_pooling2d_2 (MaxPooling  (None, 4, 4, 32)         0         \n",
            " 2D)                                                             \n",
            "                                                                 \n",
            " flatten (Flatten)           (None, 512)               0         \n",
            "                                                                 \n",
            " dense (Dense)               (None, 64)                32832     \n",
            "                                                                 \n",
            " dense_1 (Dense)             (None, 16)                1040      \n",
            "                                                                 \n",
            " dense_2 (Dense)             (None, 5)                 85        \n",
            "                                                                 \n",
            "=================================================================\n",
            "Total params: 53,157\n",
            "Trainable params: 52,965\n",
            "Non-trainable params: 192\n",
            "_________________________________________________________________\n"
          ]
        }
      ]
    },
    {
      "cell_type": "code",
      "source": [
        "#Treniruoju modeli\n",
        "#Teko ekspermentuoti ieskant optimaliausio epochu skaiiciaus, kad nebutu overfit\n",
        "loss = model.fit(X_train, y_train, validation_data=(X_test, y_test), epochs=25, batch_size=128)"
      ],
      "metadata": {
        "colab": {
          "base_uri": "https://localhost:8080/"
        },
        "id": "VbbIB30T_Uhd",
        "outputId": "5983972d-a108-440a-cf36-2a9981c7450d"
      },
      "execution_count": null,
      "outputs": [
        {
          "output_type": "stream",
          "name": "stdout",
          "text": [
            "Epoch 1/25\n",
            "71/71 [==============================] - 8s 17ms/step - loss: 1.4024 - accuracy: 0.4132 - val_loss: 1.7608 - val_accuracy: 0.1710\n",
            "Epoch 2/25\n",
            "71/71 [==============================] - 1s 11ms/step - loss: 0.7381 - accuracy: 0.7254 - val_loss: 2.1448 - val_accuracy: 0.1420\n",
            "Epoch 3/25\n",
            "71/71 [==============================] - 1s 11ms/step - loss: 0.3015 - accuracy: 0.9216 - val_loss: 3.8576 - val_accuracy: 0.1380\n",
            "Epoch 4/25\n",
            "71/71 [==============================] - 1s 12ms/step - loss: 0.1899 - accuracy: 0.9598 - val_loss: 5.1237 - val_accuracy: 0.1380\n",
            "Epoch 5/25\n",
            "71/71 [==============================] - 1s 12ms/step - loss: 0.1476 - accuracy: 0.9716 - val_loss: 4.9512 - val_accuracy: 0.1460\n",
            "Epoch 6/25\n",
            "71/71 [==============================] - 1s 12ms/step - loss: 0.1186 - accuracy: 0.9783 - val_loss: 4.1222 - val_accuracy: 0.2110\n",
            "Epoch 7/25\n",
            "71/71 [==============================] - 1s 11ms/step - loss: 0.0953 - accuracy: 0.9818 - val_loss: 2.4370 - val_accuracy: 0.3850\n",
            "Epoch 8/25\n",
            "71/71 [==============================] - 1s 11ms/step - loss: 0.0855 - accuracy: 0.9829 - val_loss: 1.8213 - val_accuracy: 0.4220\n",
            "Epoch 9/25\n",
            "71/71 [==============================] - 1s 11ms/step - loss: 0.0743 - accuracy: 0.9837 - val_loss: 0.7285 - val_accuracy: 0.7300\n",
            "Epoch 10/25\n",
            "71/71 [==============================] - 1s 11ms/step - loss: 0.0599 - accuracy: 0.9841 - val_loss: 0.2213 - val_accuracy: 0.9360\n",
            "Epoch 11/25\n",
            "71/71 [==============================] - 1s 11ms/step - loss: 0.0485 - accuracy: 0.9868 - val_loss: 0.2079 - val_accuracy: 0.9550\n",
            "Epoch 12/25\n",
            "71/71 [==============================] - 1s 11ms/step - loss: 0.0445 - accuracy: 0.9873 - val_loss: 0.1779 - val_accuracy: 0.9660\n",
            "Epoch 13/25\n",
            "71/71 [==============================] - 1s 11ms/step - loss: 0.0368 - accuracy: 0.9902 - val_loss: 0.1646 - val_accuracy: 0.9710\n",
            "Epoch 14/25\n",
            "71/71 [==============================] - 1s 11ms/step - loss: 0.0312 - accuracy: 0.9912 - val_loss: 0.1990 - val_accuracy: 0.9600\n",
            "Epoch 15/25\n",
            "71/71 [==============================] - 1s 11ms/step - loss: 0.0250 - accuracy: 0.9934 - val_loss: 0.1664 - val_accuracy: 0.9730\n",
            "Epoch 16/25\n",
            "71/71 [==============================] - 1s 11ms/step - loss: 0.0177 - accuracy: 0.9953 - val_loss: 0.2587 - val_accuracy: 0.9380\n",
            "Epoch 17/25\n",
            "71/71 [==============================] - 1s 11ms/step - loss: 0.0147 - accuracy: 0.9962 - val_loss: 0.1421 - val_accuracy: 0.9800\n",
            "Epoch 18/25\n",
            "71/71 [==============================] - 1s 11ms/step - loss: 0.0110 - accuracy: 0.9972 - val_loss: 0.1843 - val_accuracy: 0.9730\n",
            "Epoch 19/25\n",
            "71/71 [==============================] - 1s 11ms/step - loss: 0.0117 - accuracy: 0.9969 - val_loss: 0.1835 - val_accuracy: 0.9690\n",
            "Epoch 20/25\n",
            "71/71 [==============================] - 1s 13ms/step - loss: 0.0081 - accuracy: 0.9977 - val_loss: 0.1846 - val_accuracy: 0.9780\n",
            "Epoch 21/25\n",
            "71/71 [==============================] - 1s 13ms/step - loss: 0.0126 - accuracy: 0.9964 - val_loss: 0.2245 - val_accuracy: 0.9700\n",
            "Epoch 22/25\n",
            "71/71 [==============================] - 1s 11ms/step - loss: 0.0300 - accuracy: 0.9912 - val_loss: 0.4439 - val_accuracy: 0.9190\n",
            "Epoch 23/25\n",
            "71/71 [==============================] - 1s 11ms/step - loss: 0.0371 - accuracy: 0.9894 - val_loss: 0.2243 - val_accuracy: 0.9520\n",
            "Epoch 24/25\n",
            "71/71 [==============================] - 1s 11ms/step - loss: 0.0298 - accuracy: 0.9894 - val_loss: 0.2656 - val_accuracy: 0.9490\n",
            "Epoch 25/25\n",
            "71/71 [==============================] - 1s 11ms/step - loss: 0.0171 - accuracy: 0.9938 - val_loss: 0.1940 - val_accuracy: 0.9740\n"
          ]
        }
      ]
    },
    {
      "cell_type": "code",
      "source": [
        "#Treniravimo eigos vizualizacija\n",
        "pd.DataFrame(loss.history).plot()"
      ],
      "metadata": {
        "colab": {
          "base_uri": "https://localhost:8080/",
          "height": 282
        },
        "id": "YVFWHWdp_UkU",
        "outputId": "b921b763-03ad-4d5a-a17c-ad7ed5001521"
      },
      "execution_count": null,
      "outputs": [
        {
          "output_type": "execute_result",
          "data": {
            "text/plain": [
              "<matplotlib.axes._subplots.AxesSubplot at 0x7f2168061040>"
            ]
          },
          "metadata": {},
          "execution_count": 8
        },
        {
          "output_type": "display_data",
          "data": {
            "text/plain": [
              "<Figure size 432x288 with 1 Axes>"
            ],
            "image/png": "[encoded data removed]"
          },
          "metadata": {
            "needs_background": "light"
          }
        }
      ]
    },
    {
      "cell_type": "code",
      "source": [
        "#Tikrinu modelio tiksluma\n",
        "pred = model.predict(X_test).argmax(axis=1)\n",
        "print('Tikslumas testavimo grupeje - {0:.02%}'.format((pred == y_test).mean()))\n",
        "\n",
        "fail = X_test[pred != y_test]\n",
        "print('Klaidu skaicius:',fail.shape[0],'is',X_test.shape[0])"
      ],
      "metadata": {
        "colab": {
          "base_uri": "https://localhost:8080/"
        },
        "id": "p9bVrAoe_Upv",
        "outputId": "febebf53-21b6-4d27-db9d-aae1ddda54b4"
      },
      "execution_count": null,
      "outputs": [
        {
          "output_type": "stream",
          "name": "stdout",
          "text": [
            "32/32 [==============================] - 0s 4ms/step\n",
            "Tikslumas testavimo grupeje - 97.40%\n",
            "Klaidu skaicius: 26 is 1000\n"
          ]
        }
      ]
    },
    {
      "cell_type": "code",
      "source": [
        "model.save('final_model.h5')"
      ],
      "metadata": {
        "id": "Ezl_FOI5_n_L"
      },
      "execution_count": null,
      "outputs": []
    }
  ],
  "metadata": {
    "colab": {
      "provenance": [],
      "include_colab_link": true
    },
    "kernelspec": {
      "display_name": "Python 3",
      "name": "python3"
    },
    "accelerator": "GPU",
    "gpuClass": "standard"
  },
  "nbformat": 4,
  "nbformat_minor": 0
}