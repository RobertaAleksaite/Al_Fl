{
  "cells": [
    {
      "cell_type": "markdown",
      "metadata": {
        "id": "view-in-github",
        "colab_type": "text"
      },
      "source": [
        "<a href=\"https://colab.research.google.com/github/RobertaAleksaite/Al_Fl/blob/main/Sveiki%2C_tai_%E2%80%93_%E2%80%9EColaboratory%E2%80%9C.ipynb\" target=\"_parent\"><img src=\"https://colab.research.google.com/assets/colab-badge.svg\" alt=\"Open In Colab\"/></a>"
      ]
    },
    {
      "cell_type": "code",
      "source": [
        "#Impotuojami irankiai\n",
        "import numpy as np\n",
        "import random\n",
        "from collections import Counter\n",
        "from tabulate import tabulate\n",
        "from tensorflow import keras\n",
        "from keras import layers\n",
        "import matplotlib.pyplot as plt\n",
        "import pandas as pd\n",
        "from sklearn.model_selection import train_test_split"
      ],
      "metadata": {
        "id": "XEvWOxkd7DQh"
      },
      "execution_count": 1,
      "outputs": []
    },
    {
      "cell_type": "code",
      "source": [
        "#Ikeliami duomenys\n",
        "df = np.load('flatland_train.npz')\n",
        "X = df['X']\n",
        "y = df['y']\n",
        "\n",
        "y[y != 0] -= 2 #Keiciamos y vertes, kad butu paeiliui einantys skaiciai\n",
        "X = X / 255. #Normalizuojamos X vertes"
      ],
      "metadata": {
        "id": "YbPkCmX27e6P"
      },
      "execution_count": 2,
      "outputs": []
    }
  ],
  "metadata": {
    "colab": {
      "name": "Sveiki, tai – „Colaboratory“",
      "provenance": [],
      "include_colab_link": true
    },
    "kernelspec": {
      "display_name": "Python 3",
      "name": "python3"
    }
  },
  "nbformat": 4,
  "nbformat_minor": 0
}